{
 "cells": [
  {
   "cell_type": "code",
   "execution_count": null,
   "metadata": {},
   "outputs": [],
   "source": [
    "import torch\n",
    "import torch.nn as nn\n",
    "from torch.optim.lr_scheduler import StepLR\n",
    "import torch.optim as optim\n",
    "import torchvision.transforms as transforms\n",
    "from torch.utils.data import Dataset\n",
    "\n",
    "import os\n",
    "from tqdm import tqdm\n",
    "import numpy as np\n",
    "import matplotlib.pyplot as plt\n",
    "\n",
    "from datasets.unet_dataset import UNetDataset\n",
    "from models.unext import UNext\n",
    "\n",
    "from scripts.train import train\n",
    "from scripts.validate import validate\n",
    "\n",
    "from utils.image import torch_to_numpy"
   ]
  },
  {
   "attachments": {},
   "cell_type": "markdown",
   "metadata": {},
   "source": [
    "First, let's load the datasets :"
   ]
  },
  {
   "cell_type": "code",
   "execution_count": null,
   "metadata": {},
   "outputs": [],
   "source": [
    "# data paths for train and validation\n",
    "val_dir = \"challenge_data/validation/validation\"\n",
    "train_dir = \"challenge_data/train/train\"\n",
    "\n",
    "# data augmentation\n",
    "val_transform = transforms.Compose([transforms.ToTensor()])\n",
    "train_transform = transforms.Compose([transforms.ToTensor(),\n",
    "                        transforms.RandomAffine(degrees=(0, 0), translate=(0., 0.), scale=(0.8, 1.2))])\n",
    "\n",
    "# train and validation datasets\n",
    "val_dataset = UNetDataset(val_dir, transforms=val_transform)\n",
    "train_dataset = UNetDataset(train_dir, transforms=train_transform)"
   ]
  },
  {
   "attachments": {},
   "cell_type": "markdown",
   "metadata": {},
   "source": [
    "Some plots of the dataset : \n",
    "\n",
    "- Inputs : "
   ]
  },
  {
   "cell_type": "code",
   "execution_count": null,
   "metadata": {},
   "outputs": [],
   "source": [
    "# pick an element of the dataset\n",
    "elem = next(iter(train_dataset))\n",
    "    \n",
    "# show CT scans, possible dose mask and 10 organ masks\n",
    "for el in elem['input'][0]:\n",
    "    plt.figure()\n",
    "    plt.imshow(torch_to_numpy(el.unsqueeze(0).unsqueeze(0).detach().cpu()[0]))\n",
    "    plt.show()"
   ]
  },
  {
   "attachments": {},
   "cell_type": "markdown",
   "metadata": {},
   "source": [
    "Labels : "
   ]
  },
  {
   "cell_type": "code",
   "execution_count": null,
   "metadata": {},
   "outputs": [],
   "source": [
    "# pick label corresponding to the inputs above\n",
    "label=elem[\"label\"]\n",
    "plt.figure()\n",
    "plt.imshow(torch_to_numpy(label.detach().cpu()))\n",
    "plt.show()"
   ]
  },
  {
   "attachments": {},
   "cell_type": "markdown",
   "metadata": {},
   "source": [
    "Let's build our model : "
   ]
  },
  {
   "cell_type": "code",
   "execution_count": null,
   "metadata": {},
   "outputs": [],
   "source": [
    "# the model takes an input with 12 channels : CT scan, possible dose mask, 10 organ masks\n",
    "model = UNext(n_channels=12)\n",
    "print(model)"
   ]
  },
  {
   "attachments": {},
   "cell_type": "markdown",
   "metadata": {},
   "source": [
    "Train the model : "
   ]
  },
  {
   "cell_type": "code",
   "execution_count": null,
   "metadata": {},
   "outputs": [],
   "source": [
    "train(model.cuda(), train_dataset, val_dataset, batch_size=32)"
   ]
  },
  {
   "attachments": {},
   "cell_type": "markdown",
   "metadata": {},
   "source": [
    "Load our best model : "
   ]
  },
  {
   "cell_type": "code",
   "execution_count": null,
   "metadata": {},
   "outputs": [],
   "source": [
    "model = UNext(n_channels=12).cuda().eval()\n",
    "#path leading to the model\n",
    "# PATH = \"\"\n",
    "# model.load_state_dict(torch.load(PATH))"
   ]
  },
  {
   "attachments": {},
   "cell_type": "markdown",
   "metadata": {},
   "source": [
    "Validate the model : "
   ]
  },
  {
   "cell_type": "code",
   "execution_count": null,
   "metadata": {},
   "outputs": [],
   "source": [
    "# validate(model.cuda(), val_dataset)"
   ]
  },
  {
   "attachments": {},
   "cell_type": "markdown",
   "metadata": {},
   "source": [
    "Sample example : "
   ]
  },
  {
   "cell_type": "code",
   "execution_count": null,
   "metadata": {},
   "outputs": [],
   "source": [
    "# val_loader = torch.utils.data.DataLoader(val_dataset, batch_size=1, shuffle=True)\n",
    "# # pick one example of the validation set\n",
    "# val_sample = next(iter(val_loader))\n",
    "# val_elem = [val_sample[\"input\"][0].cuda(), val_sample[\"input\"][1].cuda()]\n",
    "# m = nn.ZeroPad2d((24,24, 9, 9))\n",
    "# out = m(model(val_elem))\n",
    "# out = torch.multiply(out, val_sample[\"possible_dose_mask\"].cuda().unsqueeze(1))"
   ]
  },
  {
   "attachments": {},
   "cell_type": "markdown",
   "metadata": {},
   "source": [
    "Left : Prediction\n",
    "\n",
    "Right : Groundtruth"
   ]
  },
  {
   "cell_type": "code",
   "execution_count": null,
   "metadata": {},
   "outputs": [],
   "source": [
    "# plt.figure()\n",
    "# plt.subplot(1,2,1)\n",
    "# plt.imshow(torch_to_numpy(out[0].cpu()))\n",
    "# plt.subplot(1,2,2)\n",
    "# plt.imshow(torch_to_numpy(m(val_sample[\"label\"])[0].cpu()))\n",
    "# plt.legend()\n",
    "# plt.show()"
   ]
  }
 ],
 "metadata": {
  "kernelspec": {
   "display_name": "medical_imaging",
   "language": "python",
   "name": "python3"
  },
  "language_info": {
   "codemirror_mode": {
    "name": "ipython",
    "version": 3
   },
   "file_extension": ".py",
   "mimetype": "text/x-python",
   "name": "python",
   "nbconvert_exporter": "python",
   "pygments_lexer": "ipython3",
   "version": "3.8.10"
  },
  "orig_nbformat": 4
 },
 "nbformat": 4,
 "nbformat_minor": 2
}
